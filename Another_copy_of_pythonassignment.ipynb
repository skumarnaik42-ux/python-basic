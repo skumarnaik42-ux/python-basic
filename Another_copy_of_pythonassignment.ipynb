{
  "nbformat": 4,
  "nbformat_minor": 0,
  "metadata": {
    "colab": {
      "provenance": []
    },
    "kernelspec": {
      "name": "python3",
      "display_name": "Python 3"
    },
    "language_info": {
      "name": "python"
    }
  },
  "cells": [
    {
      "cell_type": "code",
      "execution_count": null,
      "metadata": {
        "id": "Lh5P6Lppj-AE"
      },
      "outputs": [],
      "source": []
    },
    {
      "cell_type": "markdown",
      "source": [
        "Practical questions and answers\n",
        "1. Write a python programme to print \"hello,world!\""
      ],
      "metadata": {
        "id": "dvUSIWQYkDLe"
      }
    },
    {
      "cell_type": "code",
      "source": [
        "print(\"hello,world!\")"
      ],
      "metadata": {
        "colab": {
          "base_uri": "https://localhost:8080/"
        },
        "id": "1yp8U9-fkcoo",
        "outputId": "c9981584-8fc2-4167-ea40-79b4924903bb"
      },
      "execution_count": null,
      "outputs": [
        {
          "output_type": "stream",
          "name": "stdout",
          "text": [
            "hello,world!\n"
          ]
        }
      ]
    },
    {
      "cell_type": "markdown",
      "source": [
        "2.write a python programme that display your name and age."
      ],
      "metadata": {
        "id": "BQhtVxGuksbf"
      }
    },
    {
      "cell_type": "code",
      "source": [
        "name='santosh'\n",
        "age=28\n",
        "print(\"my name is\" ,name, \"and my age is\" ,age)"
      ],
      "metadata": {
        "colab": {
          "base_uri": "https://localhost:8080/"
        },
        "id": "fZ8DJwP0lEYb",
        "outputId": "ea4cd6d9-b9d1-4b32-c3f7-a3776b950f5e"
      },
      "execution_count": null,
      "outputs": [
        {
          "output_type": "stream",
          "name": "stdout",
          "text": [
            "my name is santosh and my age is 28\n"
          ]
        }
      ]
    },
    {
      "cell_type": "markdown",
      "source": [
        "3. Write a code to print all pre-defined keywords in python using keywords library."
      ],
      "metadata": {
        "id": "gYnXmTrAm4E1"
      }
    },
    {
      "cell_type": "code",
      "source": [
        "import keyword\n",
        "print(keyword.kwlist)\n",
        "print(f\"total keywords in python: {len(keyword.kwlist)}\")\n"
      ],
      "metadata": {
        "colab": {
          "base_uri": "https://localhost:8080/"
        },
        "id": "thPn5CQknabe",
        "outputId": "29022eb2-3bc5-43b1-b7e4-e60dc8c5a436"
      },
      "execution_count": null,
      "outputs": [
        {
          "output_type": "stream",
          "name": "stdout",
          "text": [
            "['False', 'None', 'True', 'and', 'as', 'assert', 'async', 'await', 'break', 'class', 'continue', 'def', 'del', 'elif', 'else', 'except', 'finally', 'for', 'from', 'global', 'if', 'import', 'in', 'is', 'lambda', 'nonlocal', 'not', 'or', 'pass', 'raise', 'return', 'try', 'while', 'with', 'yield']\n",
            "total keywords in python: 35\n"
          ]
        }
      ]
    },
    {
      "cell_type": "markdown",
      "source": [
        "4.write a programme that checks if a given word is a python keyword."
      ],
      "metadata": {
        "id": "uFCkqERXq7Cg"
      }
    },
    {
      "cell_type": "code",
      "source": [
        "import keyword\n",
        "word = input(\"enter a keyword: \")\n",
        "\n",
        "if keyword.iskeyword(word):\n",
        "  print(f\"{word} is a python keyword.\")\n",
        "else:\n",
        "  print(f\"{word} is not a python keyword.\")"
      ],
      "metadata": {
        "colab": {
          "base_uri": "https://localhost:8080/"
        },
        "id": "5idVT_YSuBie",
        "outputId": "43b9fdfc-9a92-471c-d303-1be8340e1f83"
      },
      "execution_count": null,
      "outputs": [
        {
          "output_type": "stream",
          "name": "stdout",
          "text": [
            "enter a keyword: where\n",
            "where is not a python keyword.\n"
          ]
        }
      ]
    },
    {
      "cell_type": "markdown",
      "source": [
        "5.creat a list and tuple in pyton and demonstrate how attemping an element work differently."
      ],
      "metadata": {
        "id": "ywEOz64DyoWf"
      }
    },
    {
      "cell_type": "code",
      "source": [
        "# list - mutable\n",
        "\n",
        "records = [\"mango\", 10, \"age\", \"sugar\", 28]\n",
        "records [2] =\"height\"\n",
        "print(f\"modified list {records}\")"
      ],
      "metadata": {
        "colab": {
          "base_uri": "https://localhost:8080/"
        },
        "id": "ODCsUDF6zAcv",
        "outputId": "506c1b9e-3adc-4ace-d639-686715fce81b"
      },
      "execution_count": null,
      "outputs": [
        {
          "output_type": "stream",
          "name": "stdout",
          "text": [
            "modified list ['mango', 10, 'height', 'sugar', 28]\n"
          ]
        }
      ]
    },
    {
      "cell_type": "code",
      "source": [],
      "metadata": {
        "id": "l3VMFCOQ1J8h"
      },
      "execution_count": null,
      "outputs": []
    },
    {
      "cell_type": "code",
      "source": [
        "# tuple\n",
        "# immutable  - tuple' object does not support item assignment.\n",
        "\n",
        "journal=(\"fruits\", \"vegitable\", 174.5,10)\n",
        "journal2=\"height\"\n",
        "print(f\"modified tuple {journal}\")"
      ],
      "metadata": {
        "colab": {
          "base_uri": "https://localhost:8080/"
        },
        "id": "XC-JWPpi1M3Q",
        "outputId": "31ce523c-e0a3-42f7-fe0c-48a2f56ee765"
      },
      "execution_count": null,
      "outputs": [
        {
          "output_type": "stream",
          "name": "stdout",
          "text": [
            "modified tuple ('fruits', 'vegitable', 174.5, 10)\n"
          ]
        }
      ]
    },
    {
      "cell_type": "markdown",
      "source": [
        "6.write a function to demonstrate the behavior of mutable and immutable arguments."
      ],
      "metadata": {
        "id": "a_dhq_I83QoF"
      }
    },
    {
      "cell_type": "code",
      "source": [],
      "metadata": {
        "id": "C_myiv_Q3mH3"
      },
      "execution_count": null,
      "outputs": []
    },
    {
      "cell_type": "code",
      "source": [
        "def change_values(age, fruits):\n",
        "    # Immutable (integer)\n",
        "    age = age + 2\n",
        "    print(\"Inside function (age):\", age)\n",
        "\n",
        "    # Mutable (list)\n",
        "    fruits.append(\"Mango\")\n",
        "    print(\"Inside function (fruits):\", fruits)\n",
        "\n",
        "\n",
        "# Test\n",
        "person_age = 20            # Immutable\n",
        "fruit_list = [\"Apple\", \"Banana\"]   # Mutable\n",
        "\n",
        "change_values(person_age, fruit_list)\n",
        "\n",
        "print(\"Outside function (age):\", person_age)   # remains 20 (unchanged)\n",
        "print(\"Outside function (fruits):\", fruit_list) # becomes [\"Apple\", \"Banana\", \"Mango\"]"
      ],
      "metadata": {
        "colab": {
          "base_uri": "https://localhost:8080/"
        },
        "id": "xnxcrUAjhc3R",
        "outputId": "b5644796-75ff-457a-afe1-efcf2e06e5ad"
      },
      "execution_count": null,
      "outputs": [
        {
          "output_type": "stream",
          "name": "stdout",
          "text": [
            "Inside function (age): 22\n",
            "Inside function (fruits): ['Apple', 'Banana', 'Mango']\n",
            "Outside function (age): 20\n",
            "Outside function (fruits): ['Apple', 'Banana', 'Mango']\n"
          ]
        }
      ]
    },
    {
      "cell_type": "markdown",
      "source": [
        "7.write a program that performs basic arithemstics operations on two user input numbers."
      ],
      "metadata": {
        "id": "YY2w7IDK4x8F"
      }
    },
    {
      "cell_type": "code",
      "source": [],
      "metadata": {
        "id": "9AZRLr4M5fcC"
      },
      "execution_count": null,
      "outputs": []
    },
    {
      "cell_type": "code",
      "source": [
        "num1 = int(input(\"Enter first number: \"))\n",
        "num2 = int(input(\"Enter second number: \"))\n",
        "\n",
        "addition = num1 + num2\n",
        "subtraction = num1 - num2\n",
        "multiplication = num1 * num2\n",
        "division = num1 / num2\n",
        "\n",
        "'''print(\"Additon:\", num1 + num2)\n",
        "print(\"Subtraction:\", num1 - num2)\n",
        "print(\"Multiplication:\", num1 * num2)\n",
        "print(\"Division:\", num1 / num2)'''\n",
        "\n",
        "print(f\"Addition: {addition}\")\n",
        "print(f\"Subtraction: {subtraction}\")\n",
        "print(f\"Multiplication: {multiplication}\")\n",
        "print(f\"Division: {division}\")"
      ],
      "metadata": {
        "colab": {
          "base_uri": "https://localhost:8080/"
        },
        "id": "1ywwtzSedNHr",
        "outputId": "fa1c6bce-6d6f-4c55-8fd8-33e991c3a152"
      },
      "execution_count": null,
      "outputs": [
        {
          "output_type": "stream",
          "name": "stdout",
          "text": [
            "Enter first number: 10\n",
            "Enter second number: 15\n",
            "Addition: 25\n",
            "Subtraction: -5\n",
            "Multiplication: 150\n",
            "Division: 0.6666666666666666\n"
          ]
        }
      ]
    },
    {
      "cell_type": "markdown",
      "source": [
        "8.Write a program to demonstrate the use of logical operator.\n",
        "\n"
      ],
      "metadata": {
        "id": "sxqhrUPX6H4P"
      }
    },
    {
      "cell_type": "code",
      "source": [],
      "metadata": {
        "id": "SmGI1KVPCIPp"
      },
      "execution_count": null,
      "outputs": []
    },
    {
      "cell_type": "code",
      "source": [
        "a = True\n",
        "b = False\n",
        "\n",
        "print(f\"a and b: {b and b}\")\n",
        "print(f\"a or b: {a or b}\")\n",
        "print(f\"not a: {not a}\")\n",
        "print(f\"not b: {not b}\")"
      ],
      "metadata": {
        "colab": {
          "base_uri": "https://localhost:8080/"
        },
        "outputId": "2507a05f-439e-4a5f-85f7-6af90cf9c21c",
        "id": "W2d55HZACddB"
      },
      "execution_count": null,
      "outputs": [
        {
          "output_type": "stream",
          "name": "stdout",
          "text": [
            "a and b: False\n",
            "a or b: True\n",
            "not a: False\n",
            "not b: True\n"
          ]
        }
      ]
    },
    {
      "cell_type": "code",
      "source": [
        "a = True\n",
        "b = False\n",
        "\n",
        "print(f\"a and b: {b and b}\")\n",
        "print(f\"a or b: {a or b}\")\n",
        "print(f\"not a: {not a}\")\n",
        "print(f\"not b: {not b}\")"
      ],
      "metadata": {
        "colab": {
          "base_uri": "https://localhost:8080/"
        },
        "id": "uzNC9w59eEfe",
        "outputId": "2507a05f-439e-4a5f-85f7-6af90cf9c21c"
      },
      "execution_count": null,
      "outputs": [
        {
          "output_type": "stream",
          "name": "stdout",
          "text": [
            "a and b: False\n",
            "a or b: True\n",
            "not a: False\n",
            "not b: True\n"
          ]
        }
      ]
    },
    {
      "cell_type": "markdown",
      "source": [
        "9.Write a python program to convert user input string to integer,float and boolean types'"
      ],
      "metadata": {
        "id": "-InFc2k6CgeR"
      }
    },
    {
      "cell_type": "code",
      "source": [],
      "metadata": {
        "id": "r1dnaUyyDazI"
      },
      "execution_count": null,
      "outputs": []
    },
    {
      "cell_type": "code",
      "source": [
        "user1 = input(\"Enter something: \")\n",
        "\n",
        "# Convert integer\n",
        "user1 = int(user1)\n",
        "print(f\"Integer Values: {user1} \")\n",
        "\n",
        "# Convert to float\n",
        "user1 = float(user1)\n",
        "print(f\"Float Values: {user1} \")\n",
        "\n",
        "# Convert to boolean\n",
        "user1 = bool(user1)\n",
        "print(f\"Boolean values: {user1} \")\n",
        "\n"
      ],
      "metadata": {
        "id": "1L4XKpzWmror"
      },
      "execution_count": null,
      "outputs": []
    },
    {
      "cell_type": "markdown",
      "source": [
        "10.write code to demonstrate type casting with elements."
      ],
      "metadata": {
        "id": "zaC1Ll-wEjuu"
      }
    },
    {
      "cell_type": "code",
      "source": [],
      "metadata": {
        "id": "fhS6j2tgE_7I"
      },
      "execution_count": null,
      "outputs": []
    },
    {
      "cell_type": "code",
      "source": [
        "# Original list with string numbers\n",
        "\n",
        "my_list = [\"10\", \"20\", \"30\", \"40\"]\n",
        "\n",
        "int_list = []\n",
        "float_list = []\n",
        "str_list = []\n",
        "\n",
        "for item in my_list:\n",
        "    int_list.append(int(item))\n",
        "    float_list.append(float(item))\n",
        "    str_list.append(str(item))\n",
        "\n",
        "print(\"Integer list:\", int_list)\n",
        "print(\"Float list:\", float_list)\n",
        "print(\"String list:\", str_list)\n",
        "\n"
      ],
      "metadata": {
        "colab": {
          "base_uri": "https://localhost:8080/"
        },
        "id": "Rc0w9s25v0M3",
        "outputId": "6b00d6f0-77ae-47f5-b46b-85eea8fff6e9"
      },
      "execution_count": null,
      "outputs": [
        {
          "output_type": "stream",
          "name": "stdout",
          "text": [
            "Integer list: [10, 20, 30, 40]\n",
            "Float list: [10.0, 20.0, 30.0, 40.0]\n",
            "String list: ['10', '20', '30', '40']\n"
          ]
        }
      ]
    },
    {
      "cell_type": "markdown",
      "source": [
        "11.Write a program that checks ifa number is positive,negative or zero."
      ],
      "metadata": {
        "id": "CJdbSbC1FReH"
      }
    },
    {
      "cell_type": "code",
      "source": [],
      "metadata": {
        "id": "PsLM-qxeFpfC"
      },
      "execution_count": null,
      "outputs": []
    },
    {
      "cell_type": "code",
      "source": [
        "\n",
        "  print(\"Zero\")um = int(input(\"Enter Number: \"))\n",
        "\n",
        "if num < 0:\n",
        "  print(\"Negative.\")\n",
        "elif num > 0:\n",
        "  print(\"Positive.\")\n",
        "else:"
      ],
      "metadata": {
        "colab": {
          "base_uri": "https://localhost:8080/"
        },
        "id": "no2usKEryUSg",
        "outputId": "3320a242-c60d-4b3d-9c5b-0e1b3b2e0302"
      },
      "execution_count": null,
      "outputs": [
        {
          "output_type": "stream",
          "name": "stdout",
          "text": [
            "Enter Number: 0\n",
            "Zero\n"
          ]
        }
      ]
    },
    {
      "cell_type": "markdown",
      "source": [
        "12.While a for loop to print numbers from 1 to 10"
      ],
      "metadata": {
        "id": "8SEMtHRwGTxr"
      }
    },
    {
      "cell_type": "code",
      "source": [
        "# for loop\n",
        "for a in frange(1,11)\n",
        "print(a)"
      ],
      "metadata": {
        "id": "lkbehddpHIaP"
      },
      "execution_count": null,
      "outputs": []
    },
    {
      "cell_type": "markdown",
      "source": [
        "13.Write a python program to find the sum of all even numbers between 1 to 50."
      ],
      "metadata": {
        "id": "z9wh-0WRHzmf"
      }
    },
    {
      "cell_type": "code",
      "source": [],
      "metadata": {
        "id": "p65q-U5JIcEi"
      },
      "execution_count": null,
      "outputs": []
    },
    {
      "cell_type": "code",
      "source": [
        "total = 0\n",
        "\n",
        "for i in range(1, 51):\n",
        "  if i % 2 == 0:\n",
        "    total = total + i\n",
        "\n",
        "print(\"Sum of even numbers from 1 to 50 is:\", total)"
      ],
      "metadata": {
        "colab": {
          "base_uri": "https://localhost:8080/"
        },
        "id": "AxMtFEPKF_AV",
        "outputId": "26905bc4-4478-4da6-e37f-ae3ff0bc41c4"
      },
      "execution_count": null,
      "outputs": [
        {
          "output_type": "stream",
          "name": "stdout",
          "text": [
            "Sum of even numbers from 1 to 50 is: 650\n"
          ]
        }
      ]
    },
    {
      "cell_type": "markdown",
      "source": [
        "14.Write a program to reverse a string using a while loop."
      ],
      "metadata": {
        "id": "9QOrRS8lIsNH"
      }
    },
    {
      "cell_type": "code",
      "source": [],
      "metadata": {
        "id": "C5uypvUoJV8S"
      },
      "execution_count": null,
      "outputs": []
    },
    {
      "cell_type": "code",
      "source": [
        "word = \"Carrot\"\n",
        "reversed_word = \"\"\n",
        "i = len(word) - 1\n",
        "\n",
        "while i >= 0:\n",
        "    reversed_word += word[i]\n",
        "    i -= 1\n",
        "\n",
        "print(reversed_word)"
      ],
      "metadata": {
        "colab": {
          "base_uri": "https://localhost:8080/"
        },
        "id": "a71Bbzx7Gt7m",
        "outputId": "d701e5fc-e117-495f-a839-de0e849ac4a4"
      },
      "execution_count": null,
      "outputs": [
        {
          "output_type": "stream",
          "name": "stdout",
          "text": [
            "torraC\n"
          ]
        }
      ]
    },
    {
      "cell_type": "markdown",
      "source": [
        "15.write a python to calculate the factorial of a number provided by the user using a while loop."
      ],
      "metadata": {
        "id": "7aHnrmw5JbLN"
      }
    },
    {
      "cell_type": "code",
      "source": [],
      "metadata": {
        "id": "vn_vB9AoKEsw"
      },
      "execution_count": null,
      "outputs": []
    },
    {
      "cell_type": "code",
      "source": [
        "num = int(input(\"Enter a number: \"))\n",
        "\n",
        "factorial = 1   # start with 1 because multplyig with 0 makes everything 0\n",
        "i = 1\n",
        "\n",
        "while i <= num:\n",
        "    factorial = factorial * i   # multiply step by step\n",
        "    i += 1\n",
        "\n",
        "print(f\"The factorial of {num} is {factorial}\")\n"
      ],
      "metadata": {
        "colab": {
          "base_uri": "https://localhost:8080/"
        },
        "id": "wJfaQzOHI7jX",
        "outputId": "edcef2c6-bb48-45af-eca0-d63c7b56a1ab"
      },
      "execution_count": null,
      "outputs": [
        {
          "output_type": "stream",
          "name": "stdout",
          "text": [
            "Enter a number: 5\n",
            "The factorial of 5 is 120\n"
          ]
        }
      ]
    }
  ]
}